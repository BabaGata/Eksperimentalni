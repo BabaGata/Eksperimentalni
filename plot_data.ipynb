{
 "cells": [
  {
   "cell_type": "code",
   "execution_count": null,
   "metadata": {},
   "outputs": [],
   "source": [
    "import pandas as pd\n",
    "import matplotlib.pyplot as plt\n",
    "import numpy as np\n",
    "from matplotlib.transforms import Bbox"
   ]
  },
  {
   "cell_type": "code",
   "execution_count": null,
   "metadata": {},
   "outputs": [],
   "source": [
    "def plot_data(df, column, divide, title, ylabel):\n",
    "    df.sort_values(by=[column], inplace=True)\n",
    "    df.reset_index(drop=True, inplace=True)\n",
    "\n",
    "    perc_99 = np.percentile(df.ttime, 99)/divide\n",
    "    perc_50 = np.percentile(df.ttime, 50)/divide\n",
    "    bottom = (np.percentile(df.ttime, 1) - (np.percentile(df.ttime, 10) - np.percentile(df.ttime, 1)))/divide\n",
    "    \n",
    "    fig, ax = plt.subplots(figsize=(7.0, 5.0))\n",
    "    ax.bar(df.index, df.ttime/divide-bottom, bottom=bottom)\n",
    "    ax.axhline(y=perc_99, color='r', linestyle='--', label='99th Percentile')\n",
    "    ax.axhline(y=perc_50, color='g', linestyle='--', label='50th Percentile')\n",
    "\n",
    "    ax.set_ylabel(ylabel)\n",
    "    ax.set_title(title)\n",
    "    ax.legend()\n",
    "\n",
    "    custom_ticks = [perc_99, perc_50]\n",
    "    ax.set_yticks(custom_ticks)\n",
    "    return fig, ax"
   ]
  },
  {
   "cell_type": "code",
   "execution_count": null,
   "metadata": {},
   "outputs": [],
   "source": [
    "out_data = pd.read_csv(\"App/out_1000.data\", sep='\\t')\n",
    "out_data"
   ]
  },
  {
   "cell_type": "code",
   "execution_count": null,
   "metadata": {},
   "outputs": [],
   "source": [
    "out_fig, out_ax = plot_data(out_data, 'seconds', 1000, 'Server app request time', 'seconds')\n",
    "out_fig.savefig('server_1000.png')"
   ]
  },
  {
   "cell_type": "code",
   "execution_count": null,
   "metadata": {},
   "outputs": [],
   "source": [
    "producer_out = pd.read_csv(\"Producer/producer_out.data\", sep='\\t')\n",
    "producer_out"
   ]
  },
  {
   "cell_type": "code",
   "execution_count": null,
   "metadata": {},
   "outputs": [],
   "source": [
    "producer_fig, producer_ax = plot_data(producer_out, 'starttime', 0.001, 'Producer send time', 'miliseconds')\n",
    "producer_fig.savefig('producer_1000.png')"
   ]
  },
  {
   "cell_type": "code",
   "execution_count": null,
   "metadata": {},
   "outputs": [],
   "source": [
    "consumer_out = pd.read_csv(\"Consumer/consumer_out.data\", sep='\\t')\n",
    "consumer_out"
   ]
  },
  {
   "cell_type": "code",
   "execution_count": null,
   "metadata": {},
   "outputs": [],
   "source": [
    "consumer_fig, consumer_ax = plot_data(consumer_out, 'starttime', 1, 'Consumer process time', 'seconds')\n",
    "consumer_fig.savefig('consumer_1000.png')"
   ]
  },
  {
   "cell_type": "code",
   "execution_count": null,
   "metadata": {},
   "outputs": [],
   "source": []
  }
 ],
 "metadata": {
  "kernelspec": {
   "display_name": "Python 3",
   "language": "python",
   "name": "python3"
  },
  "language_info": {
   "codemirror_mode": {
    "name": "ipython",
    "version": 3
   },
   "file_extension": ".py",
   "mimetype": "text/x-python",
   "name": "python",
   "nbconvert_exporter": "python",
   "pygments_lexer": "ipython3",
   "version": "3.10.12"
  }
 },
 "nbformat": 4,
 "nbformat_minor": 2
}
